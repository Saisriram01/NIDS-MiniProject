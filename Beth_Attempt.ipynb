{
  "cells": [
    {
      "cell_type": "code",
      "execution_count": 1,
      "metadata": {
        "id": "bacaXYxiE99y"
      },
      "outputs": [],
      "source": [
        "import numpy as np\n",
        "import pandas as pd\n",
        "import matplotlib.pyplot as plt\n"
      ]
    },
    {
      "cell_type": "code",
      "execution_count": 26,
      "metadata": {
        "id": "XgfzEdOmFJ6P"
      },
      "outputs": [
        {
          "name": "stderr",
          "output_type": "stream",
          "text": [
            "/tmp/ipykernel_170824/3245023583.py:8: FutureWarning: The frame.append method is deprecated and will be removed from pandas in a future version. Use pandas.concat instead.\n",
            "  df = df.append(df1)\n",
            "/tmp/ipykernel_170824/3245023583.py:9: FutureWarning: The frame.append method is deprecated and will be removed from pandas in a future version. Use pandas.concat instead.\n",
            "  df = df.append(df2)\n"
          ]
        }
      ],
      "source": [
        "#Read final dataset for work\n",
        "path=\"/home/dmacs/Downloads/Mini_Project/Beth_dataset/labelled_training_data.csv\"  # Path is the dataset path. copy path from the drive and paste here\n",
        "df=pd.read_csv(path,low_memory=False)\n",
        "\n",
        "df1 = pd.read_csv(\"/home/dmacs/Downloads/Mini_Project/Beth_dataset/labelled_testing_data.csv\")\n",
        "df2 = pd.read_csv(\"/home/dmacs/Downloads/Mini_Project/Beth_dataset/labelled_validation_data.csv\")\n",
        "\n",
        "df = df.append(df1)\n",
        "df = df.append(df2)\n"
      ]
    },
    {
      "cell_type": "code",
      "execution_count": 27,
      "metadata": {},
      "outputs": [
        {
          "data": {
            "text/plain": [
              "Index(['timestamp', 'processId', 'threadId', 'parentProcessId', 'userId',\n",
              "       'mountNamespace', 'processName', 'hostName', 'eventId', 'eventName',\n",
              "       'stackAddresses', 'argsNum', 'returnValue', 'args', 'sus', 'evil'],\n",
              "      dtype='object')"
            ]
          },
          "execution_count": 27,
          "metadata": {},
          "output_type": "execute_result"
        }
      ],
      "source": [
        "df.columns"
      ]
    },
    {
      "cell_type": "code",
      "execution_count": 28,
      "metadata": {},
      "outputs": [],
      "source": [
        "df_with_evil = df.copy()"
      ]
    },
    {
      "cell_type": "code",
      "execution_count": 29,
      "metadata": {},
      "outputs": [],
      "source": [
        "# train_data = pd.DataFrame(train_final_no_duplicates[[\"processId\", \"parentProcessId\", \"userId\", \"mountNamespace\", \"eventId\", \"argsNum\", \"returnValue\"]])\n",
        "df = pd.DataFrame(df[[\"hostName\",\"processId\", \"parentProcessId\", \"userId\", \"mountNamespace\", \"eventId\", \"argsNum\", \"returnValue\",\"sus\"]])"
      ]
    },
    {
      "cell_type": "code",
      "execution_count": 30,
      "metadata": {},
      "outputs": [
        {
          "data": {
            "text/plain": [
              "Index(['hostName', 'processId', 'parentProcessId', 'userId', 'mountNamespace',\n",
              "       'eventId', 'argsNum', 'returnValue', 'sus'],\n",
              "      dtype='object')"
            ]
          },
          "execution_count": 30,
          "metadata": {},
          "output_type": "execute_result"
        }
      ],
      "source": [
        "df.columns"
      ]
    },
    {
      "cell_type": "code",
      "execution_count": 58,
      "metadata": {
        "id": "DuIkbYuLFMM-"
      },
      "outputs": [],
      "source": [
        "# del df['eventName']\n",
        "# del df['stackAddresses']\n",
        "# del df['args']\n",
        "# del df['processName']\n",
        "# # del df['Unnamed: 0']"
      ]
    },
    {
      "cell_type": "code",
      "execution_count": 13,
      "metadata": {
        "colab": {
          "base_uri": "https://localhost:8080/",
          "height": 204
        },
        "id": "JdRPkKanFUTE",
        "outputId": "b2553f5a-9820-4961-c12c-9c3dfdf17c1e"
      },
      "outputs": [
        {
          "data": {
            "text/html": [
              "<div>\n",
              "<style scoped>\n",
              "    .dataframe tbody tr th:only-of-type {\n",
              "        vertical-align: middle;\n",
              "    }\n",
              "\n",
              "    .dataframe tbody tr th {\n",
              "        vertical-align: top;\n",
              "    }\n",
              "\n",
              "    .dataframe thead th {\n",
              "        text-align: right;\n",
              "    }\n",
              "</style>\n",
              "<table border=\"1\" class=\"dataframe\">\n",
              "  <thead>\n",
              "    <tr style=\"text-align: right;\">\n",
              "      <th></th>\n",
              "      <th>hostName</th>\n",
              "      <th>processId</th>\n",
              "      <th>parentProcessId</th>\n",
              "      <th>userId</th>\n",
              "      <th>mountNamespace</th>\n",
              "      <th>eventId</th>\n",
              "      <th>argsNum</th>\n",
              "      <th>returnValue</th>\n",
              "      <th>sus</th>\n",
              "    </tr>\n",
              "  </thead>\n",
              "  <tbody>\n",
              "    <tr>\n",
              "      <th>0</th>\n",
              "      <td>ip-10-100-1-120</td>\n",
              "      <td>381</td>\n",
              "      <td>1</td>\n",
              "      <td>100</td>\n",
              "      <td>4026532231</td>\n",
              "      <td>157</td>\n",
              "      <td>5</td>\n",
              "      <td>0</td>\n",
              "      <td>1</td>\n",
              "    </tr>\n",
              "    <tr>\n",
              "      <th>1</th>\n",
              "      <td>ip-10-100-1-120</td>\n",
              "      <td>381</td>\n",
              "      <td>1</td>\n",
              "      <td>100</td>\n",
              "      <td>4026532231</td>\n",
              "      <td>3</td>\n",
              "      <td>1</td>\n",
              "      <td>0</td>\n",
              "      <td>1</td>\n",
              "    </tr>\n",
              "    <tr>\n",
              "      <th>2</th>\n",
              "      <td>ip-10-100-1-120</td>\n",
              "      <td>381</td>\n",
              "      <td>1</td>\n",
              "      <td>100</td>\n",
              "      <td>4026532231</td>\n",
              "      <td>1010</td>\n",
              "      <td>0</td>\n",
              "      <td>0</td>\n",
              "      <td>1</td>\n",
              "    </tr>\n",
              "    <tr>\n",
              "      <th>3</th>\n",
              "      <td>ip-10-100-1-120</td>\n",
              "      <td>7347</td>\n",
              "      <td>7341</td>\n",
              "      <td>0</td>\n",
              "      <td>4026531840</td>\n",
              "      <td>21</td>\n",
              "      <td>2</td>\n",
              "      <td>-2</td>\n",
              "      <td>1</td>\n",
              "    </tr>\n",
              "    <tr>\n",
              "      <th>4</th>\n",
              "      <td>ip-10-100-1-120</td>\n",
              "      <td>7347</td>\n",
              "      <td>7341</td>\n",
              "      <td>0</td>\n",
              "      <td>4026531840</td>\n",
              "      <td>1005</td>\n",
              "      <td>4</td>\n",
              "      <td>0</td>\n",
              "      <td>1</td>\n",
              "    </tr>\n",
              "  </tbody>\n",
              "</table>\n",
              "</div>"
            ],
            "text/plain": [
              "          hostName  processId  parentProcessId  userId  mountNamespace  \\\n",
              "0  ip-10-100-1-120        381                1     100      4026532231   \n",
              "1  ip-10-100-1-120        381                1     100      4026532231   \n",
              "2  ip-10-100-1-120        381                1     100      4026532231   \n",
              "3  ip-10-100-1-120       7347             7341       0      4026531840   \n",
              "4  ip-10-100-1-120       7347             7341       0      4026531840   \n",
              "\n",
              "   eventId  argsNum  returnValue  sus  \n",
              "0      157        5            0    1  \n",
              "1        3        1            0    1  \n",
              "2     1010        0            0    1  \n",
              "3       21        2           -2    1  \n",
              "4     1005        4            0    1  "
            ]
          },
          "execution_count": 13,
          "metadata": {},
          "output_type": "execute_result"
        }
      ],
      "source": [
        "df.head()"
      ]
    },
    {
      "cell_type": "code",
      "execution_count": 31,
      "metadata": {
        "id": "ko09nAqRFWmT"
      },
      "outputs": [],
      "source": [
        "#Target column encoding\n",
        "from sklearn import preprocessing\n",
        "\n",
        "def encode_text_index(df,name):\n",
        "  le = preprocessing.LabelEncoder()\n",
        "  df[name] = le.fit_transform(df[name])\n",
        "  return le.classes_"
      ]
    },
    {
      "cell_type": "code",
      "execution_count": 32,
      "metadata": {
        "colab": {
          "base_uri": "https://localhost:8080/"
        },
        "id": "5vD2OjpfFXre",
        "outputId": "b5e7688d-c2a4-49e1-e908-9432cafd842f"
      },
      "outputs": [
        {
          "name": "stdout",
          "output_type": "stream",
          "text": [
            "{'ip-10-100-1-120': 0, 'ip-10-100-1-129': 1, 'ip-10-100-1-165': 2, 'ip-10-100-1-169': 3, 'ip-10-100-1-173': 4, 'ip-10-100-1-217': 5, 'ip-10-100-1-28': 6, 'ip-10-100-1-34': 7, 'ip-10-100-1-55': 8, 'ip-10-100-1-57': 9, 'ip-10-100-1-79': 10, 'ubuntu': 11}\n"
          ]
        }
      ],
      "source": [
        "#Target column encoding\n",
        "#def encode_text_index(df,name):\n",
        "le = preprocessing.LabelEncoder()\n",
        "le.fit_transform(df['hostName'])\n",
        "le_name_mapping = dict(zip(le.classes_, le.transform(le.classes_)))\n",
        "print(le_name_mapping)"
      ]
    },
    {
      "cell_type": "code",
      "execution_count": 33,
      "metadata": {
        "id": "_MnTxbXhFXuA"
      },
      "outputs": [],
      "source": [
        "#Encoding the numeric column\n",
        "def  encode_numeric_zscore(df, name, mean=None, sd=None):\n",
        "  if mean is None:\n",
        "    mean= df[name].mean()\n",
        "\n",
        "  if sd is None:\n",
        "    sd=df[name].std()\n",
        "\n",
        "  df[name] = (df[name] - mean) / sd"
      ]
    },
    {
      "cell_type": "code",
      "execution_count": 34,
      "metadata": {},
      "outputs": [],
      "source": [
        "def process_data(unprocessed_data):\n",
        "    data = unprocessed_data.copy()\n",
        "    data[\"processId\"] = data[\"processId\"].map(lambda x: 0 if x in [0, 1, 2] else 1)  # Map to OS/not OS\n",
        "    data[\"parentProcessId\"] = data[\"parentProcessId\"].map(lambda x: 0 if x in [0, 1, 2] else 1)  # Map to OS/not OS\n",
        "    data[\"userId\"] = data[\"userId\"].map(lambda x: 0 if x < 1000 else 1)  # Map to OS/not OS\n",
        "    data[\"mountNamespace\"] = data[\"mountNamespace\"].map(lambda x: 0 if x == 4026531840 else 1)  # Map to mount access to mnt/ (all non-OS users) /elsewhere\n",
        "    data[\"eventId\"] = data[\"eventId\"]  # Keep eventId values (requires knowing max value)\n",
        "    data[\"returnValue\"] = data[\"returnValue\"].map(lambda x: 0 if x == 0 else (1 if x > 0 else 2))  # Map to success/success with value/error\n",
        "\n",
        "    return data"
      ]
    },
    {
      "cell_type": "code",
      "execution_count": 35,
      "metadata": {},
      "outputs": [],
      "source": [
        "df = process_data(df)"
      ]
    },
    {
      "cell_type": "code",
      "execution_count": 63,
      "metadata": {
        "id": "DmArD-1lFXwE"
      },
      "outputs": [],
      "source": [
        "# encode_numeric_zscore(df,'mountNamespace')\n",
        "encode_numeric_zscore(df,'threadId')\n",
        "# encode_numeric_zscore(df,'processId')\n",
        "# encode_numeric_zscore(df,'timestamp')\n",
        "# encode_numeric_zscore(df,'parentProcessId')\n",
        "# encode_numeric_zscore(df,'eventId')\n",
        "# encode_numeric_zscore(df,'returnValue')"
      ]
    },
    {
      "cell_type": "code",
      "execution_count": 36,
      "metadata": {
        "colab": {
          "base_uri": "https://localhost:8080/",
          "height": 204
        },
        "id": "tuIrtGL1FXyu",
        "outputId": "064f1787-6fe6-4b0b-9dde-11f236607a47"
      },
      "outputs": [
        {
          "data": {
            "text/html": [
              "<div>\n",
              "<style scoped>\n",
              "    .dataframe tbody tr th:only-of-type {\n",
              "        vertical-align: middle;\n",
              "    }\n",
              "\n",
              "    .dataframe tbody tr th {\n",
              "        vertical-align: top;\n",
              "    }\n",
              "\n",
              "    .dataframe thead th {\n",
              "        text-align: right;\n",
              "    }\n",
              "</style>\n",
              "<table border=\"1\" class=\"dataframe\">\n",
              "  <thead>\n",
              "    <tr style=\"text-align: right;\">\n",
              "      <th></th>\n",
              "      <th>hostName</th>\n",
              "      <th>processId</th>\n",
              "      <th>parentProcessId</th>\n",
              "      <th>userId</th>\n",
              "      <th>mountNamespace</th>\n",
              "      <th>eventId</th>\n",
              "      <th>argsNum</th>\n",
              "      <th>returnValue</th>\n",
              "      <th>sus</th>\n",
              "    </tr>\n",
              "  </thead>\n",
              "  <tbody>\n",
              "    <tr>\n",
              "      <th>0</th>\n",
              "      <td>0</td>\n",
              "      <td>1</td>\n",
              "      <td>0</td>\n",
              "      <td>0</td>\n",
              "      <td>1</td>\n",
              "      <td>157</td>\n",
              "      <td>5</td>\n",
              "      <td>0</td>\n",
              "      <td>1</td>\n",
              "    </tr>\n",
              "    <tr>\n",
              "      <th>1</th>\n",
              "      <td>0</td>\n",
              "      <td>1</td>\n",
              "      <td>0</td>\n",
              "      <td>0</td>\n",
              "      <td>1</td>\n",
              "      <td>3</td>\n",
              "      <td>1</td>\n",
              "      <td>0</td>\n",
              "      <td>1</td>\n",
              "    </tr>\n",
              "    <tr>\n",
              "      <th>2</th>\n",
              "      <td>0</td>\n",
              "      <td>1</td>\n",
              "      <td>0</td>\n",
              "      <td>0</td>\n",
              "      <td>1</td>\n",
              "      <td>1010</td>\n",
              "      <td>0</td>\n",
              "      <td>0</td>\n",
              "      <td>1</td>\n",
              "    </tr>\n",
              "    <tr>\n",
              "      <th>3</th>\n",
              "      <td>0</td>\n",
              "      <td>1</td>\n",
              "      <td>1</td>\n",
              "      <td>0</td>\n",
              "      <td>0</td>\n",
              "      <td>21</td>\n",
              "      <td>2</td>\n",
              "      <td>2</td>\n",
              "      <td>1</td>\n",
              "    </tr>\n",
              "    <tr>\n",
              "      <th>4</th>\n",
              "      <td>0</td>\n",
              "      <td>1</td>\n",
              "      <td>1</td>\n",
              "      <td>0</td>\n",
              "      <td>0</td>\n",
              "      <td>1005</td>\n",
              "      <td>4</td>\n",
              "      <td>0</td>\n",
              "      <td>1</td>\n",
              "    </tr>\n",
              "  </tbody>\n",
              "</table>\n",
              "</div>"
            ],
            "text/plain": [
              "   hostName  processId  parentProcessId  userId  mountNamespace  eventId  \\\n",
              "0         0          1                0       0               1      157   \n",
              "1         0          1                0       0               1        3   \n",
              "2         0          1                0       0               1     1010   \n",
              "3         0          1                1       0               0       21   \n",
              "4         0          1                1       0               0     1005   \n",
              "\n",
              "   argsNum  returnValue  sus  \n",
              "0        5            0    1  \n",
              "1        1            0    1  \n",
              "2        0            0    1  \n",
              "3        2            2    1  \n",
              "4        4            0    1  "
            ]
          },
          "execution_count": 36,
          "metadata": {},
          "output_type": "execute_result"
        }
      ],
      "source": [
        "hostNmae = encode_text_index(df,'hostName')\n",
        "df.head()"
      ]
    },
    {
      "cell_type": "code",
      "execution_count": 37,
      "metadata": {
        "id": "MCRrcsI3FX1F"
      },
      "outputs": [],
      "source": [
        "df.replace([np.inf, -np.inf], np.nan, inplace=True)\n",
        "df.fillna(0, inplace=True)"
      ]
    },
    {
      "cell_type": "code",
      "execution_count": 38,
      "metadata": {
        "id": "28zoKiewFX3f"
      },
      "outputs": [],
      "source": [
        "# Convert to numpy - Classification\n",
        "# x_columns = df.columns.drop('evil')\n",
        "x_columns = df.columns\n",
        "x = df[x_columns].values\n",
        "\n",
        "dummies = pd.get_dummies(df_with_evil['evil']) # Classification\n",
        "outcomes = dummies.columns\n",
        "num_classes = len(outcomes)\n",
        "\n",
        "y = dummies.values"
      ]
    },
    {
      "cell_type": "code",
      "execution_count": 41,
      "metadata": {
        "id": "aw2DQeUkFX6Q"
      },
      "outputs": [],
      "source": [
        "from sklearn.model_selection import train_test_split\n",
        "x_train, x_test, y_train, y_test = train_test_split(x, y, test_size=0.20, shuffle = True, random_state=64)"
      ]
    },
    {
      "cell_type": "code",
      "execution_count": 44,
      "metadata": {
        "id": "4fCbMfzUW2fG"
      },
      "outputs": [
        {
          "name": "stderr",
          "output_type": "stream",
          "text": [
            "/home/dmacs/.local/lib/python3.8/site-packages/keras/initializers/initializers.py:120: UserWarning: The initializer GlorotUniform is unseeded and being called multiple times, which will return identical values each time (even if the initializer is unseeded). Please update your code to provide a seed to the initializer, or avoid using the same initalizer instance more than once.\n",
            "  warnings.warn(\n"
          ]
        }
      ],
      "source": [
        "#model\n",
        "import tensorflow as tf\n",
        "constraints = tf.keras.constraints.UnitNorm(axis=0)\n",
        "\n",
        "initializer = tf.keras.initializers.GlorotUniform()\n",
        "\n",
        "model = tf.keras.Sequential([\n",
        "      tf.keras.layers.Dense(32, input_dim=x.shape[1], kernel_initializer=initializer, bias_initializer=\"zeros\", kernel_constraint=constraints, activation='relu'),\n",
        "      tf.keras.layers.Dense(64, input_dim=x.shape[1], kernel_initializer=initializer, bias_initializer=\"zeros\", kernel_constraint=constraints,activation='relu'),\n",
        "      tf.keras.layers.Dropout(0.3),\n",
        "      tf.keras.layers.Dense(128, input_dim=x.shape[1], kernel_initializer=initializer, bias_initializer=\"zeros\", kernel_constraint=constraints,activation='relu'),\n",
        "      tf.keras.layers.Dense(y.shape[1],activation='softmax')\n",
        "      ])"
      ]
    },
    {
      "cell_type": "code",
      "execution_count": 73,
      "metadata": {
        "colab": {
          "base_uri": "https://localhost:8080/"
        },
        "id": "4zfYJXtHW2hz",
        "outputId": "955427d7-d521-4ad6-ff89-841c5bc6ead4"
      },
      "outputs": [],
      "source": [
        "! pip install -q tensorflow-model-optimization"
      ]
    },
    {
      "cell_type": "code",
      "execution_count": 45,
      "metadata": {
        "colab": {
          "base_uri": "https://localhost:8080/"
        },
        "id": "VEx5Q3bQXg1A",
        "outputId": "1d434a69-1259-4c35-caa9-ae156c06bc8d"
      },
      "outputs": [
        {
          "name": "stderr",
          "output_type": "stream",
          "text": [
            "2024-02-15 18:33:36.311702: W tensorflow/tsl/framework/cpu_allocator_impl.cc:83] Allocation of 65726064 exceeds 10% of free system memory.\n"
          ]
        },
        {
          "name": "stdout",
          "output_type": "stream",
          "text": [
            "Epoch 1/100\n"
          ]
        },
        {
          "name": "stderr",
          "output_type": "stream",
          "text": [
            "2024-02-15 18:33:46.154260: W tensorflow/tsl/framework/cpu_allocator_impl.cc:83] Allocation of 16431552 exceeds 10% of free system memory.\n"
          ]
        },
        {
          "name": "stdout",
          "output_type": "stream",
          "text": [
            "3566/3566 - 10s - loss: 0.0641 - accuracy: 0.9890 - val_loss: 0.0144 - val_accuracy: 0.9967 - 10s/epoch - 3ms/step\n",
            "Epoch 2/100\n",
            "3566/3566 - 8s - loss: 0.0243 - accuracy: 0.9948 - val_loss: 0.0164 - val_accuracy: 0.9956 - 8s/epoch - 2ms/step\n",
            "Epoch 3/100\n",
            "3566/3566 - 8s - loss: 0.0180 - accuracy: 0.9958 - val_loss: 0.0152 - val_accuracy: 0.9957 - 8s/epoch - 2ms/step\n",
            "Epoch 4/100\n",
            "3566/3566 - 8s - loss: 0.0139 - accuracy: 0.9967 - val_loss: 0.0097 - val_accuracy: 0.9972 - 8s/epoch - 2ms/step\n",
            "Epoch 5/100\n",
            "3566/3566 - 8s - loss: 0.0125 - accuracy: 0.9968 - val_loss: 0.0063 - val_accuracy: 0.9985 - 8s/epoch - 2ms/step\n",
            "Epoch 6/100\n",
            "3566/3566 - 8s - loss: 0.0094 - accuracy: 0.9977 - val_loss: 0.0062 - val_accuracy: 0.9973 - 8s/epoch - 2ms/step\n",
            "Epoch 7/100\n",
            "3566/3566 - 8s - loss: 0.0103 - accuracy: 0.9975 - val_loss: 0.0235 - val_accuracy: 0.9955 - 8s/epoch - 2ms/step\n",
            "Epoch 8/100\n",
            "3566/3566 - 8s - loss: 0.0106 - accuracy: 0.9974 - val_loss: 0.0052 - val_accuracy: 0.9987 - 8s/epoch - 2ms/step\n",
            "Epoch 9/100\n",
            "3566/3566 - 8s - loss: 0.0153 - accuracy: 0.9967 - val_loss: 0.0146 - val_accuracy: 0.9972 - 8s/epoch - 2ms/step\n",
            "Epoch 10/100\n",
            "3566/3566 - 8s - loss: 0.0108 - accuracy: 0.9973 - val_loss: 0.0119 - val_accuracy: 0.9972 - 8s/epoch - 2ms/step\n",
            "Epoch 11/100\n",
            "3566/3566 - 8s - loss: 0.0136 - accuracy: 0.9971 - val_loss: 0.0189 - val_accuracy: 0.9954 - 8s/epoch - 2ms/step\n",
            "Epoch 12/100\n",
            "3566/3566 - 8s - loss: 0.0143 - accuracy: 0.9967 - val_loss: 0.0079 - val_accuracy: 0.9987 - 8s/epoch - 2ms/step\n",
            "Epoch 13/100\n",
            "3566/3566 - 8s - loss: 0.0122 - accuracy: 0.9971 - val_loss: 0.0082 - val_accuracy: 0.9986 - 8s/epoch - 2ms/step\n",
            "Epoch 14/100\n",
            "3566/3566 - 8s - loss: 0.0165 - accuracy: 0.9962 - val_loss: 0.0102 - val_accuracy: 0.9971 - 8s/epoch - 2ms/step\n",
            "Epoch 15/100\n",
            "3566/3566 - 8s - loss: 0.0148 - accuracy: 0.9966 - val_loss: 0.0114 - val_accuracy: 0.9971 - 8s/epoch - 2ms/step\n",
            "Epoch 16/100\n",
            "Restoring model weights from the end of the best epoch: 8.\n",
            "3566/3566 - 8s - loss: 0.0120 - accuracy: 0.9970 - val_loss: 0.0059 - val_accuracy: 0.9986 - 8s/epoch - 2ms/step\n",
            "Epoch 16: early stopping\n"
          ]
        }
      ],
      "source": [
        "import datetime \n",
        "model.compile(loss='categorical_crossentropy',metrics=['accuracy'], optimizer='adam')\n",
        "\n",
        "monitor = [\n",
        "            tf.keras.callbacks.EarlyStopping(monitor='val_loss', min_delta=1e-3, patience=8, verbose=1, mode='auto',restore_best_weights=True),\n",
        "            ]\n",
        "# tf.keras.callbacks.TensorBoard(log_dir=log_dir, histogram_freq=1)\n",
        "history  = model.fit(x_train,y_train,validation_data=(x_test,y_test), callbacks=[monitor],verbose=2, batch_size=256, epochs=100)  \n"
      ]
    },
    {
      "cell_type": "code",
      "execution_count": 46,
      "metadata": {
        "id": "g2_ORU_OXg8x"
      },
      "outputs": [
        {
          "name": "stderr",
          "output_type": "stream",
          "text": [
            "2024-02-15 18:36:12.077559: W tensorflow/tsl/framework/cpu_allocator_impl.cc:83] Allocation of 16431552 exceeds 10% of free system memory.\n"
          ]
        }
      ],
      "source": [
        "yhat_probs = model.predict(x_test, verbose=0)\n"
      ]
    },
    {
      "cell_type": "code",
      "execution_count": 47,
      "metadata": {},
      "outputs": [
        {
          "data": {
            "text/plain": [
              "array([[9.9998575e-01, 1.4195424e-05],\n",
              "       [9.9988335e-01, 1.1657623e-04],\n",
              "       [9.9999839e-01, 1.5313599e-06],\n",
              "       ...,\n",
              "       [9.9991065e-01, 8.9291068e-05],\n",
              "       [9.9969208e-01, 3.0792181e-04],\n",
              "       [9.9991161e-01, 8.8323381e-05]], dtype=float32)"
            ]
          },
          "execution_count": 47,
          "metadata": {},
          "output_type": "execute_result"
        }
      ],
      "source": [
        "yhat_probs"
      ]
    },
    {
      "cell_type": "code",
      "execution_count": 48,
      "metadata": {},
      "outputs": [
        {
          "name": "stdout",
          "output_type": "stream",
          "text": [
            "Confusion Matrix:\n",
            "[[196377     77]\n",
            " [   219  31543]]\n"
          ]
        }
      ],
      "source": [
        "from sklearn.metrics import confusion_matrix\n",
        "\n",
        "y_pred_labels = np.argmax(yhat_probs, axis=1)\n",
        "cm = confusion_matrix(np.argmax(y_test, axis=1), y_pred_labels)\n",
        "print(\"Confusion Matrix:\")\n",
        "print(cm)\n"
      ]
    },
    {
      "cell_type": "code",
      "execution_count": 49,
      "metadata": {},
      "outputs": [
        {
          "name": "stdout",
          "output_type": "stream",
          "text": [
            "AUROC Score: 5.593561798550279e-05\n"
          ]
        }
      ],
      "source": [
        "from sklearn.metrics import roc_auc_score\n",
        "\n",
        "# Assuming y_test contains the true labels (in binary format) and yhat_probs contains the predicted probabilities\n",
        "# Convert probabilities to binary predictions\n",
        "y_pred_probs = yhat_probs[:, 1]  # Assuming the second column contains the probabilities for the positive class\n",
        "\n",
        "# Reshape y_pred_probs to a 2D array with one column\n",
        "y_pred_probs = y_pred_probs.reshape(-1, 1)\n",
        "\n",
        "# Calculate AUROC\n",
        "auroc = roc_auc_score(y_test, y_pred_probs)\n",
        "\n",
        "print(\"AUROC Score:\", auroc)\n"
      ]
    },
    {
      "cell_type": "code",
      "execution_count": 50,
      "metadata": {},
      "outputs": [
        {
          "data": {
            "image/png": "[encoded data removed]",
            "text/plain": [
              "<Figure size 640x480 with 1 Axes>"
            ]
          },
          "metadata": {},
          "output_type": "display_data"
        }
      ],
      "source": [
        "import matplotlib.pyplot as plt\n",
        "from sklearn.metrics import roc_curve, auc\n",
        "\n",
        "binary_labels = (y_test[:, 1] == 1).astype(int) \n",
        "# Compute ROC curve\n",
        "fpr, tpr, thresholds = roc_curve(binary_labels, y_pred_probs)\n",
        "\n",
        "# Calculate the area under the ROC curve\n",
        "roc_auc = auc(fpr, tpr)\n",
        "\n",
        "# Plot ROC curve\n",
        "plt.figure()\n",
        "plt.plot(fpr, tpr, color='blue', lw=2, label='ROC curve (area = %0.2f)' % roc_auc)\n",
        "plt.plot([0, 1], [0, 1], color='gray', linestyle='--')  # Plot diagonal line (random guessing)\n",
        "plt.xlim([0.0, 1.0])\n",
        "plt.ylim([0.0, 1.05])\n",
        "plt.xlabel('False Positive Rate (FPR)')\n",
        "plt.ylabel('True Positive Rate (TPR)')\n",
        "plt.title('Receiver Operating Characteristic (ROC) Curve')\n",
        "plt.legend(loc='lower right')\n",
        "plt.grid(True)\n",
        "plt.show()\n"
      ]
    },
    {
      "cell_type": "code",
      "execution_count": 51,
      "metadata": {},
      "outputs": [
        {
          "name": "stdout",
          "output_type": "stream",
          "text": [
            "Accuracy: 0.9987029831387808\n",
            "Precision: 0.9975648323845667\n",
            "Recall: 0.9931049682009949\n"
          ]
        }
      ],
      "source": [
        "import numpy as np\n",
        "\n",
        "# Convert multilabel-indicator to binary labels\n",
        "binary_labels = np.argmax(y_test, axis=1)\n",
        "\n",
        "# Now you can compute classification metrics\n",
        "from sklearn.metrics import accuracy_score, precision_score, recall_score\n",
        "\n",
        "# Compute accuracy\n",
        "accuracy = accuracy_score(binary_labels, y_pred_labels)\n",
        "\n",
        "# Compute precision\n",
        "precision = precision_score(binary_labels, y_pred_labels)\n",
        "\n",
        "# Compute recall\n",
        "recall = recall_score(binary_labels, y_pred_labels)\n",
        "\n",
        "print(\"Accuracy:\", accuracy)\n",
        "print(\"Precision:\", precision)\n",
        "print(\"Recall:\", recall)\n"
      ]
    },
    {
      "cell_type": "markdown",
      "metadata": {},
      "source": [
        "Before Making Changes(Pre Processing changes)\n",
        "\n",
        "Accuracy: 0.9987424194622638\n",
        "\n",
        "Precision: 0.9980694369718645\n",
        "\n",
        "Recall: 0.9928845790567344"
      ]
    },
    {
      "cell_type": "code",
      "execution_count": null,
      "metadata": {},
      "outputs": [],
      "source": []
    }
  ],
  "metadata": {
    "colab": {
      "provenance": []
    },
    "kernelspec": {
      "display_name": "Python 3",
      "name": "python3"
    },
    "language_info": {
      "codemirror_mode": {
        "name": "ipython",
        "version": 3
      },
      "file_extension": ".py",
      "mimetype": "text/x-python",
      "name": "python",
      "nbconvert_exporter": "python",
      "pygments_lexer": "ipython3",
      "version": "3.8.10"
    }
  },
  "nbformat": 4,
  "nbformat_minor": 0
}
